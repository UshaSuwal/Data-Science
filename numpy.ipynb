{
 "cells": [
  {
   "cell_type": "code",
   "execution_count": 1,
   "id": "7f231430",
   "metadata": {},
   "outputs": [],
   "source": [
    "# !pip install numpy  ->if numpy is not installed\n",
    "import numpy as np\n"
   ]
  },
  {
   "cell_type": "code",
   "execution_count": 3,
   "id": "d3b827e2",
   "metadata": {},
   "outputs": [
    {
     "name": "stdout",
     "output_type": "stream",
     "text": [
      "1.24.3\n"
     ]
    }
   ],
   "source": [
    "print(np.__version__)    # to see version"
   ]
  },
  {
   "cell_type": "code",
   "execution_count": 5,
   "id": "972d2f07",
   "metadata": {},
   "outputs": [
    {
     "data": {
      "text/plain": [
       "array([ 1,  2,  3,  4,  5,  6,  7,  8,  9, 10])"
      ]
     },
     "execution_count": 5,
     "metadata": {},
     "output_type": "execute_result"
    }
   ],
   "source": [
    "# Converting into numpy array.\n",
    "# numpy array contains only numerical data.\n",
    "\n",
    "l=[1,2,3,4,5,6,7,8,9,10]\n",
    "np_array=np.array(l)     # numpy array is used for computation but normal array used to store data\n",
    "np_array"
   ]
  },
  {
   "cell_type": "code",
   "execution_count": 8,
   "id": "b91d7efc",
   "metadata": {},
   "outputs": [
    {
     "name": "stdout",
     "output_type": "stream",
     "text": [
      "[ 6  7  8  9 10 11 12 13 14 15]\n",
      "[ 5 10 15 20 25 30 35 40 45 50]\n",
      "[0.2 0.4 0.6 0.8 1.  1.2 1.4 1.6 1.8 2. ]\n",
      "[-4 -3 -2 -1  0  1  2  3  4  5]\n",
      "[1 2 3 4 0 1 2 3 4 0]\n",
      "[0 0 0 0 1 1 1 1 1 2]\n"
     ]
    }
   ],
   "source": [
    "# Operation on numpy array\n",
    "print(np_array+5)\n",
    "print(np_array*5)\n",
    "print(np_array/5)\n",
    "print(np_array-5)\n",
    "print(np_array%5)\n",
    "print(np_array//5)"
   ]
  },
  {
   "cell_type": "code",
   "execution_count": 10,
   "id": "85062fe8",
   "metadata": {},
   "outputs": [
    {
     "name": "stdout",
     "output_type": "stream",
     "text": [
      "(10,)\n"
     ]
    }
   ],
   "source": [
    "# Shape of array \n",
    "# kati dimention ko array ho vanera herne\n",
    "print(np_array.shape)"
   ]
  },
  {
   "cell_type": "code",
   "execution_count": 12,
   "id": "6df9ad1a",
   "metadata": {},
   "outputs": [
    {
     "name": "stdout",
     "output_type": "stream",
     "text": [
      "(3, 3)\n",
      "int32\n"
     ]
    }
   ],
   "source": [
    "l=[[1,2,3],\n",
    "   [4,5,6],\n",
    "   [7,8,9]]\n",
    "np_array=np.array(l)\n",
    "print(np_array.shape)    #(3,3)  row and column\n",
    "print(np_array.dtype)    # int32    integer data type  32 bit"
   ]
  },
  {
   "cell_type": "code",
   "execution_count": 14,
   "id": "b392b69e",
   "metadata": {},
   "outputs": [
    {
     "name": "stdout",
     "output_type": "stream",
     "text": [
      "(3, 3, 1)\n",
      "int32\n"
     ]
    }
   ],
   "source": [
    "l=[[[1],[2],[3]],\n",
    "   [[4],[5],[6]],\n",
    "   [[7],[8],[9]]]\n",
    "np_array=np.array(l)\n",
    "print(np_array.shape)   \n",
    "print(np_array.dtype)    "
   ]
  },
  {
   "cell_type": "code",
   "execution_count": null,
   "id": "aa2cbaf5",
   "metadata": {},
   "outputs": [],
   "source": [
    "# need Symmetric data ie:\n",
    "#l=[[1,2,3],\n",
    "#  [4,5],          invalid\n",
    "#  [7,8,9]]"
   ]
  },
  {
   "cell_type": "code",
   "execution_count": 16,
   "id": "d617dfde",
   "metadata": {},
   "outputs": [
    {
     "name": "stdout",
     "output_type": "stream",
     "text": [
      "[[0. 0. 0.]\n",
      " [0. 0. 0.]\n",
      " [0. 0. 0.]]\n",
      "[[1. 1. 1.]\n",
      " [1. 1. 1.]\n",
      " [1. 1. 1.]]\n"
     ]
    }
   ],
   "source": [
    "# Creating matrix of 0 and 1\n",
    "\n",
    "print(np.zeros((3,3)))\n",
    "print(np.ones((3,3)))"
   ]
  },
  {
   "cell_type": "code",
   "execution_count": 18,
   "id": "92ee49e6",
   "metadata": {},
   "outputs": [
    {
     "data": {
      "text/plain": [
       "array([[1, 2],\n",
       "       [3, 4],\n",
       "       [5, 6]])"
      ]
     },
     "execution_count": 18,
     "metadata": {},
     "output_type": "execute_result"
    }
   ],
   "source": [
    "# Reshaping array\n",
    "l=[[1,2,3],\n",
    "   [4,5,6]]\n",
    "np_array=np.array(l)\n",
    "np_array.reshape(3,2)"
   ]
  },
  {
   "cell_type": "code",
   "execution_count": 21,
   "id": "28a35678",
   "metadata": {},
   "outputs": [
    {
     "name": "stdout",
     "output_type": "stream",
     "text": [
      "[[1 2]\n",
      " [3 4]\n",
      " [5 6]]\n",
      "[[1 2 3]\n",
      " [4 5 6]]\n",
      "[[1 2 3 4 5 6]]\n",
      "[[1]\n",
      " [2]\n",
      " [3]\n",
      " [4]\n",
      " [5]\n",
      " [6]]\n"
     ]
    }
   ],
   "source": [
    "# 6->2*3\n",
    "# 6->3*2\n",
    "# 6->1*6\n",
    "# 6->6*1\n",
    "print(np_array.reshape(3,2))\n",
    "print(np_array.reshape(2,3))\n",
    "print(np_array.reshape(1,6))\n",
    "print(np_array.reshape(6,1))"
   ]
  },
  {
   "cell_type": "code",
   "execution_count": 23,
   "id": "d5564484",
   "metadata": {},
   "outputs": [
    {
     "data": {
      "text/plain": [
       "array([1, 2, 3, 4, 5, 6])"
      ]
     },
     "execution_count": 23,
     "metadata": {},
     "output_type": "execute_result"
    }
   ],
   "source": [
    "# Flatten array\n",
    "# Converting into 1 dimentional array\n",
    "np_array.flatten()"
   ]
  },
  {
   "cell_type": "code",
   "execution_count": 25,
   "id": "296ff62f",
   "metadata": {},
   "outputs": [
    {
     "name": "stdout",
     "output_type": "stream",
     "text": [
      "[ 4  4  4  7  7  7 10 10 10]\n"
     ]
    }
   ],
   "source": [
    "# For concatinating one or more numpy array\n",
    "a=np.array([1,2,3,4,5,6,7,8,9])\n",
    "b=np.array([3,2,1,3,2,1,3,2,1])\n",
    "print(a+b)    # This wont concatinate. It will perform numerical addition operation. So np.hstack() and np.vstack() are used."
   ]
  },
  {
   "cell_type": "code",
   "execution_count": 26,
   "id": "e9c6c3c5",
   "metadata": {},
   "outputs": [
    {
     "data": {
      "text/plain": [
       "array([1, 2, 3, 4, 5, 6, 7, 8, 9, 3, 2, 1, 3, 2, 1, 3, 2, 1])"
      ]
     },
     "execution_count": 26,
     "metadata": {},
     "output_type": "execute_result"
    }
   ],
   "source": [
    "# np.hstack()\n",
    "# Horizontally concatinating two or more numpy array\n",
    "np.hstack((a,b))"
   ]
  },
  {
   "cell_type": "code",
   "execution_count": 27,
   "id": "951b88c1",
   "metadata": {},
   "outputs": [
    {
     "data": {
      "text/plain": [
       "array([[1, 2, 3, 4, 5, 6, 7, 8, 9],\n",
       "       [3, 2, 1, 3, 2, 1, 3, 2, 1]])"
      ]
     },
     "execution_count": 27,
     "metadata": {},
     "output_type": "execute_result"
    }
   ],
   "source": [
    "# np.vstack()\n",
    "# Vertically concatinating two or more numpy array\n",
    "np.vstack((a,b))"
   ]
  },
  {
   "cell_type": "code",
   "execution_count": 28,
   "id": "42f2a556",
   "metadata": {},
   "outputs": [
    {
     "name": "stdout",
     "output_type": "stream",
     "text": [
      "[[7 2]\n",
      " [8 5]]\n"
     ]
    }
   ],
   "source": [
    "# Make matrix with random element.\n",
    "# Random integer between [0,10) of shape(2,2)\n",
    "print(np.random.randint(0,10,size=[2,2]))"
   ]
  },
  {
   "cell_type": "code",
   "execution_count": 29,
   "id": "5b884b10",
   "metadata": {},
   "outputs": [
    {
     "name": "stdout",
     "output_type": "stream",
     "text": [
      "[[106 175 248 154 171  62  62  66]\n",
      " [252  26 255 173 144  55 183 163]\n",
      " [222  45 216  49  58 221  19 170]\n",
      " [154 176  65 244 225  85   6 221]\n",
      " [ 27  96 142  69  60 252  40  28]\n",
      " [ 79 153 203   2  78 244  60 183]\n",
      " [132 133   8 186 198  56 171  48]\n",
      " [111  80 128 122 249 228   1  83]]\n"
     ]
    }
   ],
   "source": [
    "# Random integer between [0,256) of shape(8,8)\n",
    "print(np.random.randint(0,256,size=[8,8]))"
   ]
  },
  {
   "cell_type": "code",
   "execution_count": 32,
   "id": "d9b29d16",
   "metadata": {},
   "outputs": [
    {
     "name": "stdout",
     "output_type": "stream",
     "text": [
      "[['i' 'u']\n",
      " ['i' 'e']]\n",
      "['i' 'e' 'a' 'u' 'e' 'o' 'i' 'e' 'e' 'e']\n"
     ]
    }
   ],
   "source": [
    "# Pick 10 items from a given list with equal probability\n",
    "print(np.random.choice(['a','e','i','o','u'],size=[2,2]))\n",
    "print(np.random.choice(['a','e','i','o','u'],size=10))"
   ]
  },
  {
   "cell_type": "code",
   "execution_count": 37,
   "id": "dd23de3f",
   "metadata": {},
   "outputs": [
    {
     "name": "stdout",
     "output_type": "stream",
     "text": [
      "['u' 'a' 'o' 'o' 'u' 'a' 'a' 'o' 'u' 'a']\n"
     ]
    }
   ],
   "source": [
    "# Pick 10 items from a given list with given probability\n",
    "print(np.random.choice(['a','e','i','o','u'],size=10,p=[0.3,0.1,0.1,0.4,0.1]))"
   ]
  },
  {
   "cell_type": "code",
   "execution_count": null,
   "id": "daba9690",
   "metadata": {},
   "outputs": [],
   "source": []
  },
  {
   "cell_type": "code",
   "execution_count": null,
   "id": "20b2c39d",
   "metadata": {},
   "outputs": [],
   "source": []
  }
 ],
 "metadata": {
  "kernelspec": {
   "display_name": "Python 3 (ipykernel)",
   "language": "python",
   "name": "python3"
  },
  "language_info": {
   "codemirror_mode": {
    "name": "ipython",
    "version": 3
   },
   "file_extension": ".py",
   "mimetype": "text/x-python",
   "name": "python",
   "nbconvert_exporter": "python",
   "pygments_lexer": "ipython3",
   "version": "3.11.4"
  }
 },
 "nbformat": 4,
 "nbformat_minor": 5
}
