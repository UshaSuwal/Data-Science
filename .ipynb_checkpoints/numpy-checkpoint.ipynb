{
 "cells": [
  {
   "cell_type": "code",
   "execution_count": 1,
   "id": "7f231430",
   "metadata": {},
   "outputs": [],
   "source": [
    "# !pip install numpy  ->if numpy is not installed\n",
    "import numpy as np\n"
   ]
  },
  {
   "cell_type": "code",
   "execution_count": 3,
   "id": "d3b827e2",
   "metadata": {},
   "outputs": [
    {
     "name": "stdout",
     "output_type": "stream",
     "text": [
      "1.24.3\n"
     ]
    }
   ],
   "source": [
    "print(np.__version__)    # to see version"
   ]
  },
  {
   "cell_type": "code",
   "execution_count": 5,
   "id": "972d2f07",
   "metadata": {},
   "outputs": [
    {
     "data": {
      "text/plain": [
       "array([ 1,  2,  3,  4,  5,  6,  7,  8,  9, 10])"
      ]
     },
     "execution_count": 5,
     "metadata": {},
     "output_type": "execute_result"
    }
   ],
   "source": [
    "# Converting into numpy array.\n",
    "# numpy array contains only numerical data.\n",
    "\n",
    "l=[1,2,3,4,5,6,7,8,9,10]\n",
    "np_array=np.array(l)     # numpy array is used for computation but normal array used to store data\n",
    "np_array"
   ]
  },
  {
   "cell_type": "code",
   "execution_count": 8,
   "id": "b91d7efc",
   "metadata": {},
   "outputs": [
    {
     "name": "stdout",
     "output_type": "stream",
     "text": [
      "[ 6  7  8  9 10 11 12 13 14 15]\n",
      "[ 5 10 15 20 25 30 35 40 45 50]\n",
      "[0.2 0.4 0.6 0.8 1.  1.2 1.4 1.6 1.8 2. ]\n",
      "[-4 -3 -2 -1  0  1  2  3  4  5]\n",
      "[1 2 3 4 0 1 2 3 4 0]\n",
      "[0 0 0 0 1 1 1 1 1 2]\n"
     ]
    }
   ],
   "source": [
    "# Operation on numpy array\n",
    "print(np_array+5)\n",
    "print(np_array*5)\n",
    "print(np_array/5)\n",
    "print(np_array-5)\n",
    "print(np_array%5)\n",
    "print(np_array//5)"
   ]
  },
  {
   "cell_type": "code",
   "execution_count": 10,
   "id": "85062fe8",
   "metadata": {},
   "outputs": [
    {
     "name": "stdout",
     "output_type": "stream",
     "text": [
      "(10,)\n"
     ]
    }
   ],
   "source": [
    "# Shape of array \n",
    "# kati dimention ko array ho vanera herne\n",
    "print(np_array.shape)"
   ]
  },
  {
   "cell_type": "code",
   "execution_count": 12,
   "id": "6df9ad1a",
   "metadata": {},
   "outputs": [
    {
     "name": "stdout",
     "output_type": "stream",
     "text": [
      "(3, 3)\n",
      "int32\n"
     ]
    }
   ],
   "source": [
    "l=[[1,2,3],\n",
    "   [4,5,6],\n",
    "   [7,8,9]]\n",
    "np_array=np.array(l)\n",
    "print(np_array.shape)    #(3,3)  row and column\n",
    "print(np_array.dtype)    # int32    integer data type  32 bit"
   ]
  },
  {
   "cell_type": "code",
   "execution_count": 14,
   "id": "b392b69e",
   "metadata": {},
   "outputs": [
    {
     "name": "stdout",
     "output_type": "stream",
     "text": [
      "(3, 3, 1)\n",
      "int32\n"
     ]
    }
   ],
   "source": [
    "l=[[[1],[2],[3]],\n",
    "   [[4],[5],[6]],\n",
    "   [[7],[8],[9]]]\n",
    "np_array=np.array(l)\n",
    "print(np_array.shape)   \n",
    "print(np_array.dtype)    "
   ]
  },
  {
   "cell_type": "code",
   "execution_count": null,
   "id": "aa2cbaf5",
   "metadata": {},
   "outputs": [],
   "source": [
    "# need Symmetric data ie:\n",
    "#l=[[1,2,3],\n",
    "#  [4,5],          invalid\n",
    "#  [7,8,9]]"
   ]
  },
  {
   "cell_type": "code",
   "execution_count": 16,
   "id": "d617dfde",
   "metadata": {},
   "outputs": [
    {
     "name": "stdout",
     "output_type": "stream",
     "text": [
      "[[0. 0. 0.]\n",
      " [0. 0. 0.]\n",
      " [0. 0. 0.]]\n",
      "[[1. 1. 1.]\n",
      " [1. 1. 1.]\n",
      " [1. 1. 1.]]\n"
     ]
    }
   ],
   "source": [
    "# Creating matrix of 0 and 1\n",
    "\n",
    "print(np.zeros((3,3)))\n",
    "print(np.ones((3,3)))"
   ]
  },
  {
   "cell_type": "code",
   "execution_count": 18,
   "id": "92ee49e6",
   "metadata": {},
   "outputs": [
    {
     "data": {
      "text/plain": [
       "array([[1, 2],\n",
       "       [3, 4],\n",
       "       [5, 6]])"
      ]
     },
     "execution_count": 18,
     "metadata": {},
     "output_type": "execute_result"
    }
   ],
   "source": [
    "# Reshaping array\n",
    "l=[[1,2,3],\n",
    "   [4,5,6]]\n",
    "np_array=np.array(l)\n",
    "np_array.reshape(3,2)"
   ]
  },
  {
   "cell_type": "code",
   "execution_count": 21,
   "id": "28a35678",
   "metadata": {},
   "outputs": [
    {
     "name": "stdout",
     "output_type": "stream",
     "text": [
      "[[1 2]\n",
      " [3 4]\n",
      " [5 6]]\n",
      "[[1 2 3]\n",
      " [4 5 6]]\n",
      "[[1 2 3 4 5 6]]\n",
      "[[1]\n",
      " [2]\n",
      " [3]\n",
      " [4]\n",
      " [5]\n",
      " [6]]\n"
     ]
    }
   ],
   "source": [
    "# 6->2*3\n",
    "# 6->3*2\n",
    "# 6->1*6\n",
    "# 6->6*1\n",
    "print(np_array.reshape(3,2))\n",
    "print(np_array.reshape(2,3))\n",
    "print(np_array.reshape(1,6))\n",
    "print(np_array.reshape(6,1))"
   ]
  },
  {
   "cell_type": "code",
   "execution_count": 23,
   "id": "d5564484",
   "metadata": {},
   "outputs": [
    {
     "data": {
      "text/plain": [
       "array([1, 2, 3, 4, 5, 6])"
      ]
     },
     "execution_count": 23,
     "metadata": {},
     "output_type": "execute_result"
    }
   ],
   "source": [
    "# Flatten array\n",
    "# Converting into 1 dimentional array\n",
    "np_array.flatten()"
   ]
  },
  {
   "cell_type": "code",
   "execution_count": 25,
   "id": "296ff62f",
   "metadata": {},
   "outputs": [
    {
     "name": "stdout",
     "output_type": "stream",
     "text": [
      "[ 4  4  4  7  7  7 10 10 10]\n"
     ]
    }
   ],
   "source": [
    "# For concatinating one or more numpy array\n",
    "a=np.array([1,2,3,4,5,6,7,8,9])\n",
    "b=np.array([3,2,1,3,2,1,3,2,1])\n",
    "print(a+b)    # This wont concatinate. It will perform numerical addition operation. So np.hstack() and np.vstack() are used."
   ]
  },
  {
   "cell_type": "code",
   "execution_count": 26,
   "id": "e9c6c3c5",
   "metadata": {},
   "outputs": [
    {
     "data": {
      "text/plain": [
       "array([1, 2, 3, 4, 5, 6, 7, 8, 9, 3, 2, 1, 3, 2, 1, 3, 2, 1])"
      ]
     },
     "execution_count": 26,
     "metadata": {},
     "output_type": "execute_result"
    }
   ],
   "source": [
    "# np.hstack()\n",
    "# Horizontally concatinating two or more numpy array\n",
    "np.hstack((a,b))"
   ]
  },
  {
   "cell_type": "code",
   "execution_count": 27,
   "id": "951b88c1",
   "metadata": {},
   "outputs": [
    {
     "data": {
      "text/plain": [
       "array([[1, 2, 3, 4, 5, 6, 7, 8, 9],\n",
       "       [3, 2, 1, 3, 2, 1, 3, 2, 1]])"
      ]
     },
     "execution_count": 27,
     "metadata": {},
     "output_type": "execute_result"
    }
   ],
   "source": [
    "# np.vstack()\n",
    "# Vertically concatinating two or more numpy array\n",
    "np.vstack((a,b))"
   ]
  },
  {
   "cell_type": "code",
   "execution_count": 28,
   "id": "42f2a556",
   "metadata": {},
   "outputs": [
    {
     "name": "stdout",
     "output_type": "stream",
     "text": [
      "[[7 2]\n",
      " [8 5]]\n"
     ]
    }
   ],
   "source": [
    "# Make matrix with random element.\n",
    "# Random integer between [0,10) of shape(2,2)\n",
    "print(np.random.randint(0,10,size=[2,2]))"
   ]
  },
  {
   "cell_type": "code",
   "execution_count": 29,
   "id": "5b884b10",
   "metadata": {},
   "outputs": [
    {
     "name": "stdout",
     "output_type": "stream",
     "text": [
      "[[106 175 248 154 171  62  62  66]\n",
      " [252  26 255 173 144  55 183 163]\n",
      " [222  45 216  49  58 221  19 170]\n",
      " [154 176  65 244 225  85   6 221]\n",
      " [ 27  96 142  69  60 252  40  28]\n",
      " [ 79 153 203   2  78 244  60 183]\n",
      " [132 133   8 186 198  56 171  48]\n",
      " [111  80 128 122 249 228   1  83]]\n"
     ]
    }
   ],
   "source": [
    "# Random integer between [0,256) of shape(8,8)\n",
    "print(np.random.randint(0,256,size=[8,8]))"
   ]
  },
  {
   "cell_type": "code",
   "execution_count": 32,
   "id": "d9b29d16",
   "metadata": {},
   "outputs": [
    {
     "name": "stdout",
     "output_type": "stream",
     "text": [
      "[['i' 'u']\n",
      " ['i' 'e']]\n",
      "['i' 'e' 'a' 'u' 'e' 'o' 'i' 'e' 'e' 'e']\n"
     ]
    }
   ],
   "source": [
    "# Pick 10 items from a given list with equal probability\n",
    "print(np.random.choice(['a','e','i','o','u'],size=[2,2]))\n",
    "print(np.random.choice(['a','e','i','o','u'],size=10))"
   ]
  },
  {
   "cell_type": "code",
   "execution_count": 37,
   "id": "dd23de3f",
   "metadata": {},
   "outputs": [
    {
     "name": "stdout",
     "output_type": "stream",
     "text": [
      "['u' 'a' 'o' 'o' 'u' 'a' 'a' 'o' 'u' 'a']\n"
     ]
    }
   ],
   "source": [
    "# Pick 10 items from a given list with given probability\n",
    "print(np.random.choice(['a','e','i','o','u'],size=10,p=[0.3,0.1,0.1,0.4,0.1]))"
   ]
  },
  {
   "cell_type": "code",
   "execution_count": 2,
   "id": "daba9690",
   "metadata": {},
   "outputs": [
    {
     "name": "stdout",
     "output_type": "stream",
     "text": [
      "Min value= 1\n",
      "Max value= 10\n",
      "Sum value= 55\n",
      "Mean value= 5.5\n",
      "Std = 2.8722813232690143\n",
      "Median value= 5.5\n"
     ]
    }
   ],
   "source": [
    "# Statistical Function\n",
    "import numpy as np\n",
    "a=np.array([1,2,3,4,5,6,7,8,9,10])\n",
    "print(\"Min value=\",np.min(a))\n",
    "print(\"Max value=\",np.max(a))\n",
    "print(\"Sum value=\",np.sum(a))\n",
    "print(\"Mean value=\",np.mean(a))\n",
    "print(\"Std =\",np.std(a))\n",
    "print(\"Median value=\",np.median(a))"
   ]
  },
  {
   "cell_type": "code",
   "execution_count": 3,
   "id": "20b2c39d",
   "metadata": {},
   "outputs": [
    {
     "name": "stdout",
     "output_type": "stream",
     "text": [
      "[1 2 3 4 5 6 7]\n",
      "[1 3 5 7]\n",
      "[1.  1.1 1.2 1.3 1.4 1.5 1.6 1.7 1.8 1.9 2.  2.1 2.2 2.3 2.4 2.5 2.6 2.7\n",
      " 2.8 2.9 3.  3.1 3.2 3.3 3.4 3.5 3.6 3.7 3.8 3.9 4.  4.1 4.2 4.3 4.4 4.5\n",
      " 4.6 4.7 4.8 4.9 5.  5.1 5.2 5.3 5.4 5.5 5.6 5.7 5.8 5.9 6.  6.1 6.2 6.3\n",
      " 6.4 6.5 6.6 6.7 6.8 6.9 7.  7.1 7.2 7.3 7.4 7.5 7.6 7.7 7.8 7.9]\n"
     ]
    }
   ],
   "source": [
    "# Range\n",
    "print(np.arange(1,8))   # 1 to <8\n",
    "print(np.arange(1,8,2)) # 1 to <8 incremented by 2\n",
    "print(np.arange(1,8,0.1))   # 1 to <8 incremented by 0.1"
   ]
  },
  {
   "cell_type": "code",
   "execution_count": 5,
   "id": "fbe9b3b8",
   "metadata": {},
   "outputs": [
    {
     "data": {
      "text/plain": [
       "1"
      ]
     },
     "execution_count": 5,
     "metadata": {},
     "output_type": "execute_result"
    }
   ],
   "source": [
    "# argmax\n",
    "#- find the maximum value and return index of that maximum value\n",
    "np.argmax([33,111,5,6,7])"
   ]
  },
  {
   "cell_type": "code",
   "execution_count": null,
   "id": "5ce88d93",
   "metadata": {},
   "outputs": [],
   "source": [
    "# Matrix\n",
    "# 2d numpy array\n",
    "# scipy(scientific python). we import it to solve complex mathematical problem.\n",
    "# we import linalg for linear algebra"
   ]
  },
  {
   "cell_type": "code",
   "execution_count": 6,
   "id": "5172df6b",
   "metadata": {},
   "outputs": [
    {
     "name": "stdout",
     "output_type": "stream",
     "text": [
      "[[9 5 9 8 1 2 7 8]\n",
      " [7 5 5 3 8 4 2 2]\n",
      " [8 9 6 7 8 0 4 7]\n",
      " [0 7 1 8 9 1 4 8]\n",
      " [7 2 7 5 4 2 8 9]\n",
      " [0 4 2 4 9 3 2 8]\n",
      " [6 9 9 5 6 6 0 4]\n",
      " [1 2 2 6 4 5 0 2]]\n",
      "-244783.99999999985\n"
     ]
    }
   ],
   "source": [
    "# Determinant \n",
    "import scipy.linalg as slin\n",
    "import numpy as np\n",
    "np_array=np.random.randint(0,10,size=[8,8])\n",
    "print(np_array)\n",
    "print(slin.det(np_array))"
   ]
  },
  {
   "cell_type": "code",
   "execution_count": 7,
   "id": "40f21480",
   "metadata": {},
   "outputs": [
    {
     "name": "stdout",
     "output_type": "stream",
     "text": [
      "[[6 5 8 9 0 9 8 2]\n",
      " [9 5 0 9 5 8 5 7]\n",
      " [1 3 7 0 0 7 3 0]\n",
      " [7 8 8 1 3 0 7 2]\n",
      " [1 7 1 6 0 9 0 7]\n",
      " [1 9 4 0 9 7 7 0]\n",
      " [6 8 1 8 1 6 1 3]\n",
      " [1 4 2 1 4 9 4 7]]\n"
     ]
    },
    {
     "data": {
      "text/plain": [
       "34"
      ]
     },
     "execution_count": 7,
     "metadata": {},
     "output_type": "execute_result"
    }
   ],
   "source": [
    "# Trace \n",
    "# diagonal sum(left to right diagonal)\n",
    "np_array=np.random.randint(0,10,size=[8,8])\n",
    "print(np_array)\n",
    "np.trace(np_array)"
   ]
  },
  {
   "cell_type": "code",
   "execution_count": 9,
   "id": "1b4db6cb",
   "metadata": {},
   "outputs": [
    {
     "name": "stdout",
     "output_type": "stream",
     "text": [
      "[[3 5]\n",
      " [9 9]]\n"
     ]
    },
    {
     "data": {
      "text/plain": [
       "array([[-0.5       ,  0.27777778],\n",
       "       [ 0.5       , -0.16666667]])"
      ]
     },
     "execution_count": 9,
     "metadata": {},
     "output_type": "execute_result"
    }
   ],
   "source": [
    "# Inverse of matrix\n",
    "np_array=np.random.randint(0,10,size=[2,2])\n",
    "print(np_array)\n",
    "slin.inv(np_array)"
   ]
  },
  {
   "cell_type": "code",
   "execution_count": 10,
   "id": "9d5f0d4e",
   "metadata": {},
   "outputs": [
    {
     "name": "stdout",
     "output_type": "stream",
     "text": [
      "[[1 0 5]\n",
      " [2 8 8]\n",
      " [6 6 9]]\n"
     ]
    },
    {
     "data": {
      "text/plain": [
       "array([[1, 2, 6],\n",
       "       [0, 8, 6],\n",
       "       [5, 8, 9]])"
      ]
     },
     "execution_count": 10,
     "metadata": {},
     "output_type": "execute_result"
    }
   ],
   "source": [
    "# Tranpose\n",
    "# row lai column and column lai row banaune. Index ij interchange to ji \n",
    "np_array=np.random.randint(0,10,size=[3,3])\n",
    "print(np_array)\n",
    "np.transpose(np_array)\n"
   ]
  },
  {
   "cell_type": "code",
   "execution_count": 11,
   "id": "00581fce",
   "metadata": {},
   "outputs": [
    {
     "name": "stdout",
     "output_type": "stream",
     "text": [
      "[[-19]\n",
      " [  2]\n",
      " [-41]]\n"
     ]
    }
   ],
   "source": [
    "# Matrix Multiplication\n",
    "a=np.matrix([[3,-5,8],\n",
    "            [-1,2,3],\n",
    "            [-5,-6,2]])\n",
    "b=np.matrix([[3],\n",
    "            [4],\n",
    "            [-1]])\n",
    "print(a*b)"
   ]
  },
  {
   "cell_type": "code",
   "execution_count": 12,
   "id": "5858ed48",
   "metadata": {},
   "outputs": [
    {
     "data": {
      "text/plain": [
       "(array([ 1.27082039e+01, -7.08203932e-01, -2.65381787e-17]),\n",
       " array([[ 0.28907816,  0.90041255,  0.40824829],\n",
       "        [ 0.67691721, -0.30761765, -0.81649658],\n",
       "        [ 0.67691721, -0.30761765,  0.40824829]]))"
      ]
     },
     "execution_count": 12,
     "metadata": {},
     "output_type": "execute_result"
    }
   ],
   "source": [
    "# Eigen value problem\n",
    "# used for face recognition etc\n",
    "# x1+y1+z1=a\n",
    "# x2+y2+z2=b\n",
    "# x3+y3+z3=c\n",
    "mat=np.array([[1,2,3],[4,5,6],[4,5,6]])\n",
    "np.linalg.eig(mat)\n"
   ]
  },
  {
   "cell_type": "code",
   "execution_count": 14,
   "id": "b999e839",
   "metadata": {},
   "outputs": [
    {
     "data": {
      "text/plain": [
       "array([ 0.28571429, -0.57142857,  2.28571429])"
      ]
     },
     "execution_count": 14,
     "metadata": {},
     "output_type": "execute_result"
    }
   ],
   "source": [
    "# x1+y1+z1=a\n",
    "# x2+y2+z2=b\n",
    "# x3+y3+z3=c\n",
    "# for linear algebra. two straight line ko intersection point nikalera solve garne\n",
    "\n",
    "xyz=np.array([[1,1,1],\n",
    "           [1.5,4,3],\n",
    "           [1,2,3]])\n",
    "abc=np.array([2,5,6])      \n",
    "np.linalg.solve(xyz,abc)"
   ]
  },
  {
   "cell_type": "code",
   "execution_count": null,
   "id": "9ff50791",
   "metadata": {},
   "outputs": [],
   "source": []
  }
 ],
 "metadata": {
  "kernelspec": {
   "display_name": "Python 3 (ipykernel)",
   "language": "python",
   "name": "python3"
  },
  "language_info": {
   "codemirror_mode": {
    "name": "ipython",
    "version": 3
   },
   "file_extension": ".py",
   "mimetype": "text/x-python",
   "name": "python",
   "nbconvert_exporter": "python",
   "pygments_lexer": "ipython3",
   "version": "3.11.4"
  }
 },
 "nbformat": 4,
 "nbformat_minor": 5
}
